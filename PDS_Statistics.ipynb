{
  "nbformat": 4,
  "nbformat_minor": 0,
  "metadata": {
    "colab": {
      "provenance": []
    },
    "kernelspec": {
      "name": "python3",
      "display_name": "Python 3"
    },
    "language_info": {
      "name": "python"
    }
  },
  "cells": [
    {
      "cell_type": "markdown",
      "source": [
        "# **Statistics**\n",
        "1. Descriptive -> Describing properties of sample and population data\n",
        "(What has happened)\n",
        "2. Inferential -> To test hypothesis make predictions (what can you expect)\n",
        "\n",
        "### **Use of Statistics in Machine Learning**\n",
        "\n",
        "\n",
        "*   Asking questions about data\n",
        "*   Cleaning and processing data\n",
        "*Selecting right features\n",
        "*Model Evaluation\n",
        "*Model Prediction\n",
        "---\n",
        "\n",
        "*Population : Comprises all observations\n",
        "(data points) about the subject under study*\n",
        "\n",
        "*Sample : subset of population*\n",
        "\n",
        "*Measure of Central Tendency values : Mean, Meadian, Mode*\n",
        "\n",
        "*Standard Deviation : How spread our data is (sigma-square)*\n",
        "\n",
        "*Varience : Measure spread b/w all datapoints in dataset (sigma)*\n",
        "\n",
        "*Covarience : realtionship b/w datapoints*\n",
        "\n",
        "\n"
      ],
      "metadata": {
        "id": "ky5yRRtBifMQ"
      }
    }
  ]
}